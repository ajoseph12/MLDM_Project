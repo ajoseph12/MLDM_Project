{
 "cells": [
  {
   "cell_type": "code",
   "execution_count": 1,
   "metadata": {
    "collapsed": false
   },
   "outputs": [],
   "source": [
    "## Dependencies \n",
    "import numpy as np\n",
    "import pandas as pd\n",
    "#from tqdm import tqdm\n",
    "import pickle\n",
    "import matplotlib.pyplot as plt\n",
    "from matplotlib import style\n",
    "style.use('ggplot')"
   ]
  },
  {
   "cell_type": "code",
   "execution_count": 2,
   "metadata": {
    "collapsed": false
   },
   "outputs": [
    {
     "name": "stdout",
     "output_type": "stream",
     "text": [
      "Embeddings are of the shape (70000, 197)\n",
      "Column 197 is the labels corresponding to each embedding\n"
     ]
    }
   ],
   "source": [
    "## Import the embeddings\n",
    "path = 'data/embeddings/embeddings.npy'\n",
    "emb = np.load(path)\n",
    "print(\"Embeddings are of the shape {}\".format(emb.shape))\n",
    "print(\"Column {} is the labels corresponding to each embedding\".format(emb.shape[1]))"
   ]
  },
  {
   "cell_type": "code",
   "execution_count": 3,
   "metadata": {
    "collapsed": false
   },
   "outputs": [],
   "source": [
    "## splitting into test and train embeddings\n",
    "idx = np.random.permutation(70000)\n",
    "emb_train = emb[idx[:60000]]\n",
    "emb_test = emb[idx[60000:]]"
   ]
  },
  {
   "cell_type": "code",
   "execution_count": 102,
   "metadata": {
    "collapsed": false
   },
   "outputs": [
    {
     "data": {
      "text/plain": [
       "array([[ 0.25627127,  0.07363573,  0.07376003, ...,  0.9175843 ,\n",
       "        -0.4824415 , -0.4824415 ],\n",
       "       [-0.13509664, -0.18382551, -0.18797952, ...,  0.56219673,\n",
       "         0.34643215,  0.56165206],\n",
       "       [ 0.22375783,  0.07746761,  0.07573828, ..., -0.30065253,\n",
       "        -0.13048995, -0.4824415 ],\n",
       "       ...,\n",
       "       [-0.13509664, -0.18382551, -0.15929711, ...,  0.65430033,\n",
       "         0.3459939 ,  0.56176496],\n",
       "       [ 0.22375783,  0.04594029, -0.20658448, ..., -0.44862086,\n",
       "        -0.4824415 , -0.4824415 ],\n",
       "       [ 0.22375783,  0.07746761,  0.06765181, ...,  0.97849184,\n",
       "        -0.4824415 , -0.4824415 ]], dtype=float32)"
      ]
     },
     "execution_count": 102,
     "metadata": {},
     "output_type": "execute_result"
    },
    {
     "name": "stderr",
     "output_type": "stream",
     "text": [
      "/Users/allwynjoseph/anaconda/lib/python3.6/site-packages/tqdm/_monitor.py:89: TqdmSynchronisationWarning: Set changed size during iteration (see https://github.com/tqdm/tqdm/issues/481)\n",
      "  TqdmSynchronisationWarning)\n"
     ]
    }
   ],
   "source": [
    "#a = np.linalg.norm((emb_test[1][:-1].reshape(1,-1).repeat(6, axis=0) - emb_train[:6,:-1]), axis=1)"
   ]
  },
  {
   "cell_type": "code",
   "execution_count": 94,
   "metadata": {
    "collapsed": false
   },
   "outputs": [
    {
     "data": {
      "text/plain": [
       "[(8.551623, 7.0),\n",
       " (8.954226, 8.0),\n",
       " (9.094346, 8.0),\n",
       " (9.630037, 1.0),\n",
       " (9.908268, 2.0),\n",
       " (10.909585, 0.0)]"
      ]
     },
     "execution_count": 94,
     "metadata": {},
     "output_type": "execute_result"
    },
    {
     "name": "stderr",
     "output_type": "stream",
     "text": [
      "/Users/allwynjoseph/anaconda/lib/python3.6/site-packages/tqdm/_monitor.py:89: TqdmSynchronisationWarning: Set changed size during iteration (see https://github.com/tqdm/tqdm/issues/481)\n",
      "  TqdmSynchronisationWarning)\n"
     ]
    }
   ],
   "source": [
    "a = [(a[i],emb_train[:6,-1][i]) for i in range(6)]\n",
    "a.sort()"
   ]
  },
  {
   "cell_type": "code",
   "execution_count": 99,
   "metadata": {
    "collapsed": false
   },
   "outputs": [
    {
     "data": {
      "text/plain": [
       "8.0"
      ]
     },
     "execution_count": 99,
     "metadata": {},
     "output_type": "execute_result"
    },
    {
     "name": "stderr",
     "output_type": "stream",
     "text": [
      "/Users/allwynjoseph/anaconda/lib/python3.6/site-packages/tqdm/_monitor.py:89: TqdmSynchronisationWarning: Set changed size during iteration (see https://github.com/tqdm/tqdm/issues/481)\n",
      "  TqdmSynchronisationWarning)\n"
     ]
    }
   ],
   "source": [
    "temp = a[:3]\n",
    "b = [digit[1] for digit in temp]\n",
    "c = [b.count(i) for i in b]\n",
    "b[c.index(max(c))]"
   ]
  },
  {
   "cell_type": "code",
   "execution_count": null,
   "metadata": {
    "collapsed": false,
    "scrolled": true
   },
   "outputs": [],
   "source": [
    "\"\"\"\n",
    "## To-Do\n",
    "- Try the same on the only the MNIST datasets\n",
    "\n",
    "- Decide on k values\n",
    "- Calculate distance of each test instance with database and append to list\n",
    "- Sort in descending order\n",
    "- Pick the first 'k' values and assign test emb to majority clas\n",
    "- Calculate the error\n",
    "\n",
    "\"\"\"\n",
    "emb_train = emb[idx[:60000]]\n",
    "emb_test = emb[idx[60000:]]\n",
    "#emb_test = emb_train\n",
    "k_test = 100\n",
    "predictions = dict()\n",
    "\n",
    "for k in range(1,k_test+1) : predictions[k] = list()\n",
    "\n",
    "for test_inst in emb_test:\n",
    "\n",
    "    ## Calculate the distance of each test instance from train instances \n",
    "    test_inst = test_inst[:-1]\n",
    "    test_inst = test_inst.reshape(1,-1)\n",
    "    test_inst = test_inst.repeat(60000, axis=0)\n",
    "    temp_dist = np.linalg.norm((test_inst - emb_train[:,:-1]), axis=1)\n",
    "\n",
    "    ## Store distance and respective labels in tuples in a list\n",
    "    temp_dist_idx = [(temp_dist[i],emb_train[:,-1][i]) for i in range(len(emb_train))]\n",
    "    temp_dist_idx.sort()\n",
    "\n",
    "    for k in range(1,k_test+1):\n",
    "    \n",
    "        ## Choose first k elements from sorted list 'temp_dist_idx'\n",
    "        temp_first_k = temp_dist_idx[:k]\n",
    "        temp_labels = [digit[1] for digit in temp_first_k]\n",
    "\n",
    "        ## Pick label that has majority count and append to prediction list\n",
    "        temp_list = [temp_labels.count(i) for i in temp_labels]\n",
    "        predictions[k].append(temp_labels[temp_list.index(max(temp_list))])\n",
    "\n",
    "name = \"predictions_knn_new\"\n",
    "with open(name + '.pkl', 'wb') as f:\n",
    "    pickle.dump(predictions, f, pickle.HIGHEST_PROTOCOL)"
   ]
  },
  {
   "cell_type": "code",
   "execution_count": null,
   "metadata": {
    "collapsed": true
   },
   "outputs": [],
   "source": [
    "## Calculate accuracy \n",
    "accuracy = list()\n",
    "for k in range(1,k_test+1):\n",
    "    sim_pred = sum(predictions[k] == emb_test[:,-1])\n",
    "    accuracy.append((sim_pred/len(emb_test),k))"
   ]
  },
  {
   "cell_type": "code",
   "execution_count": 11,
   "metadata": {
    "collapsed": false
   },
   "outputs": [
    {
     "data": {
      "image/png": "[encoded data removed]",
      "text/plain": [
       "<matplotlib.figure.Figure at 0x1218a7828>"
      ]
     },
     "metadata": {},
     "output_type": "display_data"
    }
   ],
   "source": [
    "## Plotting accuracy (y_axis) vs K value (x_axis) curve\n",
    "acc_k = [val[1] for val in accuracy]\n",
    "acc_val = [val[0] for val in accuracy]\n",
    "\n",
    "plt.plot(acc_k, acc_val)\n",
    "plt.show()"
   ]
  },
  {
   "cell_type": "code",
   "execution_count": 46,
   "metadata": {
    "collapsed": false
   },
   "outputs": [
    {
     "name": "stderr",
     "output_type": "stream",
     "text": [
      "/Users/allwynjoseph/anaconda/lib/python3.6/site-packages/tqdm/_monitor.py:89: TqdmSynchronisationWarning: Set changed size during iteration (see https://github.com/tqdm/tqdm/issues/481)\n",
      "  TqdmSynchronisationWarning)\n"
     ]
    }
   ],
   "source": [
    "name = \"predictions_knn\"\n",
    "with open(name + '.pkl', 'wb') as f:\n",
    "    pickle.dump(predictions, f, pickle.HIGHEST_PROTOCOL)\n",
    "    \n",
    "\"\"\"\n",
    "with open('obj/' + name + '.pkl', 'rb') as f:\n",
    "        return pickle.load(f) \"\"\""
   ]
  },
  {
   "cell_type": "code",
   "execution_count": 8,
   "metadata": {
    "collapsed": true
   },
   "outputs": [],
   "source": []
  },
  {
   "cell_type": "code",
   "execution_count": null,
   "metadata": {
    "collapsed": true
   },
   "outputs": [],
   "source": []
  }
 ],
 "metadata": {
  "kernelspec": {
   "display_name": "Python 3",
   "language": "python",
   "name": "python3"
  },
  "language_info": {
   "codemirror_mode": {
    "name": "ipython",
    "version": 3
   },
   "file_extension": ".py",
   "mimetype": "text/x-python",
   "name": "python",
   "nbconvert_exporter": "python",
   "pygments_lexer": "ipython3",
   "version": "3.6.0"
  }
 },
 "nbformat": 4,
 "nbformat_minor": 2
}
