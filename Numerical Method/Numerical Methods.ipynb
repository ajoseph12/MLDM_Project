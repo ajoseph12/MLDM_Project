{
 "cells": [
  {
   "cell_type": "markdown",
   "metadata": {},
   "source": [
    "## Dependencies"
   ]
  },
  {
   "cell_type": "code",
   "execution_count": 1,
   "metadata": {
    "collapsed": false
   },
   "outputs": [],
   "source": [
    "import numpy as np\n",
    "import pandas as pd\n",
    "import pickle\n",
    "import matplotlib.pyplot as plt\n",
    "from matplotlib import style\n",
    "style.use('ggplot')"
   ]
  },
  {
   "cell_type": "markdown",
   "metadata": {},
   "source": [
    "## Embeddings summary"
   ]
  },
  {
   "cell_type": "code",
   "execution_count": 2,
   "metadata": {
    "collapsed": false
   },
   "outputs": [
    {
     "name": "stdout",
     "output_type": "stream",
     "text": [
      "Embeddings are of the shape (70000, 197)\n",
      "Column 197 is the labels corresponding to each embedding\n"
     ]
    }
   ],
   "source": [
    "## Import the embeddings\n",
    "path = 'data/embeddings.npy'\n",
    "emb = np.load(path)\n",
    "print(\"Embeddings are of the shape {}\".format(emb.shape))\n",
    "print(\"Column {} is the labels corresponding to each embedding\".format(emb.shape[1]))"
   ]
  },
  {
   "cell_type": "markdown",
   "metadata": {},
   "source": [
    "# Vanilla KNN on Embeddings"
   ]
  },
  {
   "cell_type": "code",
   "execution_count": 12,
   "metadata": {
    "collapsed": false
   },
   "outputs": [],
   "source": [
    "## splitting into test and train embeddings\n",
    "np.random.seed(42)\n",
    "idx = np.random.permutation(70000)\n",
    "emb_train = emb[idx[:60000]]\n",
    "emb_test = emb[idx[60000:]]"
   ]
  },
  {
   "cell_type": "code",
   "execution_count": 14,
   "metadata": {
    "collapsed": false,
    "scrolled": true
   },
   "outputs": [],
   "source": [
    "\"\"\"\n",
    "## To-Do\n",
    "- Try the same on the only the MNIST datasets\n",
    "\n",
    "- Decide on k values\n",
    "- Calculate distance of each test instance with database and append to list\n",
    "- Sort in descending order\n",
    "- Pick the first 'k' values and assign test emb to majority clas\n",
    "- Calculate the error\n",
    "\n",
    "\"\"\"\n",
    "emb_train = emb[idx[:60000]]\n",
    "emb_test = emb[idx[60000:]]\n",
    "#emb_test = emb_train\n",
    "k_test = 100\n",
    "predictions = dict()\n",
    "\n",
    "for k in range(1,k_test+1) : predictions[k] = list()\n",
    "\n",
    "for test_inst in emb_test:\n",
    "\n",
    "    ## Calculate the distance of each test instance from train instances \n",
    "    test_inst = test_inst[:-1]\n",
    "    test_inst = test_inst.reshape(1,-1)\n",
    "    test_inst = test_inst.repeat(len(emb_train), axis=0)\n",
    "    temp_dist = np.linalg.norm((test_inst - emb_train[:,:-1]), axis=1)\n",
    "\n",
    "    ## Store distance and respective labels in tuples in a list\n",
    "    temp_dist_idx = [(temp_dist[i],emb_train[i:,-1]) for i in range(len(emb_train))]\n",
    "    temp_dist_idx.sort()\n",
    "\n",
    "    for k in range(1,k_test+1):\n",
    "    \n",
    "        ## Choose first k elements from sorted list 'temp_dist_idx'\n",
    "        temp_first_k = temp_dist_idx[:k]\n",
    "        temp_labels = [digit[1] for digit in temp_first_k]\n",
    "\n",
    "        ## Pick label that has majority count and append to prediction list\n",
    "        temp_list = [temp_labels.count(i) for i in temp_labels]\n",
    "        predictions[k].append(temp_labels[temp_list.index(max(temp_list))])\n",
    "\n",
    "name = \"predictions_knn_newer\"\n",
    "with open(name + '.pkl', 'wb') as f:\n",
    "    pickle.dump(predictions, f, pickle.HIGHEST_PROTOCOL)"
   ]
  },
  {
   "cell_type": "code",
   "execution_count": 15,
   "metadata": {
    "collapsed": true
   },
   "outputs": [],
   "source": [
    "## Calculate accuracy \n",
    "accuracy = list()\n",
    "for k in range(1,k_test+1):\n",
    "    sim_pred = sum(predictions[k] == emb_test[:,-1])\n",
    "    accuracy.append((sim_pred/len(emb_test),k))"
   ]
  },
  {
   "cell_type": "code",
   "execution_count": 16,
   "metadata": {
    "collapsed": false
   },
   "outputs": [
    {
     "data": {
      "image/png": "[encoded data removed]",
      "text/plain": [
       "<matplotlib.figure.Figure at 0x114765400>"
      ]
     },
     "metadata": {},
     "output_type": "display_data"
    }
   ],
   "source": [
    "## Plotting accuracy (y_axis) vs K value (x_axis) curve\n",
    "acc_k = [val[1] for val in accuracy]\n",
    "acc_val = [val[0] for val in accuracy]\n",
    "\n",
    "plt.plot(acc_k, acc_val)\n",
    "plt.show()"
   ]
  },
  {
   "cell_type": "code",
   "execution_count": null,
   "metadata": {
    "collapsed": false
   },
   "outputs": [],
   "source": [
    "name = \"predictions_knn_new\"\n",
    "with open(name + '.pkl', 'wb') as f:\n",
    "    pickle.dump(predictions, f, pickle.HIGHEST_PROTOCOL)\n",
    "    \n",
    "\"\"\"\n",
    "## Load prediciton list \n",
    "with open('obj/' + name + '.pkl', 'rb') as f:\n",
    "        return pickle.load(f) \"\"\""
   ]
  },
  {
   "cell_type": "markdown",
   "metadata": {
    "collapsed": true
   },
   "source": [
    "# CNN on Embeddings"
   ]
  },
  {
   "cell_type": "markdown",
   "metadata": {},
   "source": [
    "**To use relevant indices, simply unpickle the list 'relevant_idx' and extract corresponding \n",
    "rows within the 'train_X' matrix**"
   ]
  },
  {
   "cell_type": "code",
   "execution_count": 8,
   "metadata": {
    "collapsed": true
   },
   "outputs": [],
   "source": [
    "def eucl_dist(instance, dataset):\n",
    "    \n",
    "    temp_inst = instance.reshape(1,-1)\n",
    "    temp_inst = temp_inst.repeat(len(dataset), axis=0)\n",
    "    eucl_dist = np.linalg.norm((temp_inst - dataset[:,:-2]), axis=1)\n",
    "    eucl_dist_sorted = [(eucl_dist[i], dataset[i,-2]) for i in range(len(dataset))]\n",
    "    eucl_dist_sorted.sort()\n",
    "    \n",
    "    return eucl_dist_sorted\n"
   ]
  },
  {
   "cell_type": "markdown",
   "metadata": {},
   "source": [
    "## REMOVING THE BAYESIAN ERROR"
   ]
  },
  {
   "cell_type": "code",
   "execution_count": 4,
   "metadata": {
    "collapsed": false,
    "scrolled": true
   },
   "outputs": [
    {
     "name": "stdout",
     "output_type": "stream",
     "text": [
      "1\n",
      "1\n",
      "2\n",
      "2\n",
      "3\n",
      "3\n"
     ]
    }
   ],
   "source": [
    "\"\"\"\n",
    "- Remove Baysean error\n",
    "    - Create 2 subsets\n",
    "    - Find 1NN of instances from subset 1 using subset 2\n",
    "        - classify them : Delete wrongly classified instances\n",
    "    -  Find 1NN of instances from subset 2 using subset 1\n",
    "        - classify them : Delete wrongly classified instances\n",
    "    - Repeat until stability \n",
    "\"\"\"\n",
    "\n",
    "emb = np.load(path)\n",
    "## Adding indices to the embeddings (to keep track of them)\n",
    "track_idx = np.array([i for i in range(len(emb))]).reshape(-1,1)\n",
    "emb = np.concatenate((emb, track_idx), axis = 1)\n",
    "\n",
    "## Creating subsets for CNN algo\n",
    "train_subset_1 = emb[:30000]\n",
    "train_subset_2 = emb[30000:60000]\n",
    "track_unwanted = list() # store irrelevant indices\n",
    "\n",
    "stability = False\n",
    "prev_len_subset_1 = len(train_subset_1)\n",
    "prev_len_subset_2 = len(train_subset_2)\n",
    "\n",
    "itr = 0\n",
    "while not stability:\n",
    "    \n",
    "    itr += 1\n",
    "    print(itr)\n",
    "    \n",
    "    temp_unwanted = list()\n",
    "    \n",
    "    for n_1,sub_1 in enumerate(train_subset_1):\n",
    "        \n",
    "        \n",
    "        eucl_dist_sorted = eucl_dist(sub_1[:-2], train_subset_2)\n",
    "    \n",
    "        ## Choose first k elements from sorted list 'temp_dist_idx'\n",
    "        temp_first_nn = eucl_dist_sorted[0]\n",
    "        temp_label = temp_first_nn[1]\n",
    "\n",
    "        ## Store indices in unwated list if class is wrong\n",
    "        if temp_label != sub_1[-2]:\n",
    "            temp_unwanted.append(n_1)\n",
    "            track_unwanted.append(sub_1[-1])\n",
    "            \n",
    "    ## Delete rows of train_subset_1 whose indices lie within the list 'temp_unwanted'  \n",
    "    train_subset_1 = np.delete(train_subset_1, temp_unwanted, axis=0)\n",
    "    \n",
    "    ## Save train_subset_1\n",
    "    np.save('data/train_subset_1_{}'.format(itr), train_subset_1)\n",
    "    \n",
    "    print(itr)\n",
    "    \n",
    "    temp_unwanted = list()\n",
    "    \n",
    "    for n_2,sub_2 in enumerate(train_subset_2):\n",
    "        \n",
    "        eucl_dist_sorted = eucl_dist(sub_2[:-2], train_subset_1)\n",
    "        \n",
    "        ## Choose first k elements from sorted list 'temp_dist_idx'\n",
    "        temp_first_nn = eucl_dist_sorted[0]\n",
    "        temp_label = temp_first_nn[1]\n",
    "        \n",
    "        ## Store indices in unwated list if class is wrong\n",
    "        if temp_label != sub_2[-2]:\n",
    "            temp_unwanted.append(n_2)\n",
    "            track_unwanted.append(sub_2[-1])\n",
    "            \n",
    "    ## Delete rows of train_subset_1 whose indices lie within the list 'temp_unwanted'  \n",
    "    train_subset_2 = np.delete(train_subset_2, temp_unwanted, axis=0)\n",
    "            \n",
    "    np.save('data/train_subset_2_{}'.format(itr), train_subset_2)\n",
    "    \n",
    "    if prev_len_subset_1 == len(train_subset_1) and prev_len_subset_2 == len(train_subset_2):\n",
    "        stability = True\n",
    "        \n",
    "    else: \n",
    "        prev_len_subset_1 = len(train_subset_1)\n",
    "        prev_len_subset_2 = len(train_subset_2)\n",
    "      \n",
    "        "
   ]
  },
  {
   "cell_type": "code",
   "execution_count": 5,
   "metadata": {
    "collapsed": false
   },
   "outputs": [
    {
     "name": "stdout",
     "output_type": "stream",
     "text": [
      "(28187, 198) (28464, 198)\n"
     ]
    },
    {
     "data": {
      "text/plain": [
       "(56651, 198)"
      ]
     },
     "execution_count": 5,
     "metadata": {},
     "output_type": "execute_result"
    }
   ],
   "source": [
    "train_subset_1 = np.load('data/train_subset_1_3.npy')\n",
    "train_subset_2 = np.load('data/train_subset_2_3.npy')\n",
    "print(train_subset_1.shape, train_subset_2.shape)"
   ]
  },
  {
   "cell_type": "markdown",
   "metadata": {},
   "source": [
    "## CONDENSED NEAREST NEIGHBOUR"
   ]
  },
  {
   "cell_type": "code",
   "execution_count": 9,
   "metadata": {
    "collapsed": false,
    "scrolled": true
   },
   "outputs": [
    {
     "name": "stdout",
     "output_type": "stream",
     "text": [
      "1\n",
      "2\n",
      "3\n",
      "4\n",
      "5\n",
      "6\n",
      "7\n",
      "8\n",
      "9\n",
      "10\n",
      "11\n",
      "12\n",
      "13\n",
      "14\n",
      "15\n",
      "16\n",
      "17\n",
      "18\n",
      "19\n",
      "20\n",
      "21\n",
      "22\n",
      "23\n",
      "24\n",
      "25\n",
      "26\n",
      "27\n",
      "28\n",
      "29\n"
     ]
    },
    {
     "ename": "KeyboardInterrupt",
     "evalue": "",
     "output_type": "error",
     "traceback": [
      "\u001b[0;31m---------------------------------------------------------------------------\u001b[0m",
      "\u001b[0;31mKeyboardInterrupt\u001b[0m                         Traceback (most recent call last)",
      "\u001b[0;32m<ipython-input-9-e1f0c36590f9>\u001b[0m in \u001b[0;36m<module>\u001b[0;34m()\u001b[0m\n\u001b[1;32m     29\u001b[0m \u001b[0;34m\u001b[0m\u001b[0m\n\u001b[1;32m     30\u001b[0m         \u001b[0;31m# Calc list sorted by ascending order of euc distance\u001b[0m\u001b[0;34m\u001b[0m\u001b[0;34m\u001b[0m\u001b[0m\n\u001b[0;32m---> 31\u001b[0;31m         \u001b[0meucl_dist_sorted\u001b[0m \u001b[0;34m=\u001b[0m \u001b[0meucl_dist\u001b[0m\u001b[0;34m(\u001b[0m\u001b[0minst\u001b[0m\u001b[0;34m[\u001b[0m\u001b[0;34m:\u001b[0m\u001b[0;34m-\u001b[0m\u001b[0;36m2\u001b[0m\u001b[0;34m]\u001b[0m\u001b[0;34m,\u001b[0m \u001b[0mSTORAGE\u001b[0m\u001b[0;34m)\u001b[0m\u001b[0;34m\u001b[0m\u001b[0m\n\u001b[0m\u001b[1;32m     32\u001b[0m \u001b[0;34m\u001b[0m\u001b[0m\n\u001b[1;32m     33\u001b[0m         \u001b[0;31m# Choose first k elements from sorted list 'temp_dist_idx'\u001b[0m\u001b[0;34m\u001b[0m\u001b[0;34m\u001b[0m\u001b[0m\n",
      "\u001b[0;32m<ipython-input-8-e954b6bf1fe8>\u001b[0m in \u001b[0;36meucl_dist\u001b[0;34m(instance, dataset)\u001b[0m\n\u001b[1;32m      5\u001b[0m     \u001b[0meucl_dist\u001b[0m \u001b[0;34m=\u001b[0m \u001b[0mnp\u001b[0m\u001b[0;34m.\u001b[0m\u001b[0mlinalg\u001b[0m\u001b[0;34m.\u001b[0m\u001b[0mnorm\u001b[0m\u001b[0;34m(\u001b[0m\u001b[0;34m(\u001b[0m\u001b[0mtemp_inst\u001b[0m \u001b[0;34m-\u001b[0m \u001b[0mdataset\u001b[0m\u001b[0;34m[\u001b[0m\u001b[0;34m:\u001b[0m\u001b[0;34m,\u001b[0m\u001b[0;34m:\u001b[0m\u001b[0;34m-\u001b[0m\u001b[0;36m2\u001b[0m\u001b[0;34m]\u001b[0m\u001b[0;34m)\u001b[0m\u001b[0;34m,\u001b[0m \u001b[0maxis\u001b[0m\u001b[0;34m=\u001b[0m\u001b[0;36m1\u001b[0m\u001b[0;34m)\u001b[0m\u001b[0;34m\u001b[0m\u001b[0m\n\u001b[1;32m      6\u001b[0m     \u001b[0meucl_dist_sorted\u001b[0m \u001b[0;34m=\u001b[0m \u001b[0;34m[\u001b[0m\u001b[0;34m(\u001b[0m\u001b[0meucl_dist\u001b[0m\u001b[0;34m[\u001b[0m\u001b[0mi\u001b[0m\u001b[0;34m]\u001b[0m\u001b[0;34m,\u001b[0m \u001b[0mdataset\u001b[0m\u001b[0;34m[\u001b[0m\u001b[0mi\u001b[0m\u001b[0;34m,\u001b[0m\u001b[0;34m-\u001b[0m\u001b[0;36m2\u001b[0m\u001b[0;34m]\u001b[0m\u001b[0;34m)\u001b[0m \u001b[0;32mfor\u001b[0m \u001b[0mi\u001b[0m \u001b[0;32min\u001b[0m \u001b[0mrange\u001b[0m\u001b[0;34m(\u001b[0m\u001b[0mlen\u001b[0m\u001b[0;34m(\u001b[0m\u001b[0mdataset\u001b[0m\u001b[0;34m)\u001b[0m\u001b[0;34m)\u001b[0m\u001b[0;34m]\u001b[0m\u001b[0;34m\u001b[0m\u001b[0m\n\u001b[0;32m----> 7\u001b[0;31m     \u001b[0meucl_dist_sorted\u001b[0m\u001b[0;34m.\u001b[0m\u001b[0msort\u001b[0m\u001b[0;34m(\u001b[0m\u001b[0;34m)\u001b[0m\u001b[0;34m\u001b[0m\u001b[0m\n\u001b[0m\u001b[1;32m      8\u001b[0m \u001b[0;34m\u001b[0m\u001b[0m\n\u001b[1;32m      9\u001b[0m     \u001b[0;32mreturn\u001b[0m \u001b[0meucl_dist_sorted\u001b[0m\u001b[0;34m\u001b[0m\u001b[0m\n",
      "\u001b[0;31mKeyboardInterrupt\u001b[0m: "
     ]
    }
   ],
   "source": [
    "\"\"\"\n",
    "- Remove instances that can be easily classified\n",
    "    - Find 1NN neighbours of every instance with every other\n",
    "    - if class of instance == class of other instance : Delete\n",
    "    - elif class of instance != class of other instance : Keep\n",
    "    \n",
    "\"\"\"\n",
    "\n",
    "## train_subset_1 union train_subset_2 \n",
    "train_emb_bay = np.concatenate((train_subset_1,train_subset_2), axis = 0)\n",
    "\n",
    "## Creating storage for relevant instances\n",
    "random_idx = np.random.choice(len(train_emb_bay),1)\n",
    "STORAGE = train_emb_bay[random_idx]\n",
    "\n",
    "stability = False\n",
    "\n",
    "prev_storage_len = len(STORAGE)\n",
    "itr = 0 \n",
    "\n",
    "while not stability:\n",
    "    \n",
    "    itr += 1\n",
    "    print(itr)\n",
    "    \n",
    "    for inst in train_emb_bay:\n",
    "        \n",
    "        # Calc list sorted by ascending order of euc distance\n",
    "        eucl_dist_sorted = eucl_dist(inst[:-2], STORAGE)\n",
    "        \n",
    "        # Choose first k elements from sorted list 'temp_dist_idx'\n",
    "        temp_first_nn = eucl_dist_sorted[0]\n",
    "        temp_label = temp_first_nn[1]\n",
    "        \n",
    "        # Store indices in unwated list if class is wrong\n",
    "        if temp_label != inst[-2]:\n",
    "            STORAGE = np.concatenate((STORAGE, inst.reshape(1,-1)), axis = 0)\n",
    "        \n",
    "        else:continue \n",
    "    \n",
    "    np.save('data/STORAGE_{}'.format(itr), STORAGE)\n",
    "\n",
    "    if prev_storage_len == len(STORAGE):\n",
    "        stability = True\n",
    "    \n",
    "    else:\n",
    "        prev_storage_len == len(STORAGE)\n",
    "            \n",
    "    "
   ]
  },
  {
   "cell_type": "code",
   "execution_count": 22,
   "metadata": {
    "collapsed": false
   },
   "outputs": [],
   "source": [
    "STORAGE = np.load('data/STORAGE_5.npy')\n",
    "relevant_idx = list()\n",
    "for i in range(len(STORAGE)):\n",
    "    relevant_idx.append(STORAGE[i,-1])"
   ]
  },
  {
   "cell_type": "code",
   "execution_count": 24,
   "metadata": {
    "collapsed": false
   },
   "outputs": [
    {
     "data": {
      "text/plain": [
       "'with open(\"data/relevant_idx\", \"rb\") as fp:   # Unpickling\\nb = pickle.load(fp)'"
      ]
     },
     "execution_count": 24,
     "metadata": {},
     "output_type": "execute_result"
    }
   ],
   "source": [
    "with open(\"relevant_idx\", \"wb\") as fp:   #Pickling\n",
    "    pickle.dump(relevant_idx, fp)\n",
    "\n",
    "\"\"\"with open(\"relevant_idx\", \"rb\") as fp:   # Unpickling\n",
    "b = pickle.load(fp)\"\"\""
   ]
  },
  {
   "cell_type": "markdown",
   "metadata": {},
   "source": [
    "# KNN on strong example after CNN"
   ]
  },
  {
   "cell_type": "code",
   "execution_count": null,
   "metadata": {
    "collapsed": true
   },
   "outputs": [],
   "source": []
  }
 ],
 "metadata": {
  "kernelspec": {
   "display_name": "Python 3",
   "language": "python",
   "name": "python3"
  },
  "language_info": {
   "codemirror_mode": {
    "name": "ipython",
    "version": 3
   },
   "file_extension": ".py",
   "mimetype": "text/x-python",
   "name": "python",
   "nbconvert_exporter": "python",
   "pygments_lexer": "ipython3",
   "version": "3.6.0"
  }
 },
 "nbformat": 4,
 "nbformat_minor": 2
}
