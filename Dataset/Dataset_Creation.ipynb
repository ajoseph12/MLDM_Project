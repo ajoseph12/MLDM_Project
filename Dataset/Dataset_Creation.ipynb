{
 "cells": [
  {
   "cell_type": "code",
   "execution_count": 1,
   "metadata": {
    "collapsed": true
   },
   "outputs": [],
   "source": [
    "## Dependencies\n",
    "\n",
    "# Classic\n",
    "import numpy as np\n",
    "import cv2\n",
    "import matplotlib.pyplot as plt\n",
    "from collections import Counter\n",
    "import random\n",
    "\n",
    "# Pytorch \n",
    "import torch\n",
    "from torch import nn\n",
    "from torch.optim import Adam\n",
    "from torch.autograd import Variable\n",
    "from torchvision import transforms, datasets\n",
    "from IPython import display\n",
    "\n",
    "seed = 42"
   ]
  },
  {
   "cell_type": "markdown",
   "metadata": {},
   "source": [
    "## Creating the Dataset"
   ]
  },
  {
   "cell_type": "code",
   "execution_count": 16,
   "metadata": {
    "collapsed": false
   },
   "outputs": [],
   "source": [
    "## Loading the MNIST dataset\n",
    "\n",
    "path = './data/torch_data/VGAN/MNIST/dataset'\n",
    "compose = transforms.Compose([transforms.ToTensor(),\n",
    "                              transforms.Normalize((.5, .5, .5), (.5, .5, .5))])\n",
    "\n",
    "train_dataset = datasets.MNIST(root = path, train = True, transform = compose, download = False)\n",
    "train_loader = torch.utils.data.DataLoader(dataset = train_dataset, batch_size = 60000, shuffle = True)\n",
    "test_dataset = datasets.MNIST(root = path, train = False, transform = compose, download = False)\n",
    "test_loader = torch.utils.data.DataLoader(dataset = test_dataset,batch_size = 10000, shuffle = True)"
   ]
  },
  {
   "cell_type": "code",
   "execution_count": 17,
   "metadata": {
    "collapsed": false
   },
   "outputs": [],
   "source": [
    "np.random.seed(seed)\n",
    "\n",
    "## Store the images into the repective train and test variables\n",
    "\n",
    "data_list = [train_loader, test_loader]\n",
    "\n",
    "## Loop through the datasets (train/test) [temp_idx]\n",
    "for data in data_list:\n",
    "\n",
    "    for image, labels in data:\n",
    "        \n",
    "        if image.shape[0] == 60000:\n",
    "            #temp_idx = np.random.choice(image.shape[0], 50000, replace=False)\n",
    "            train_x = image.detach().numpy()\n",
    "            train_y = labels.detach().numpy()\n",
    "        else:\n",
    "            #temp_idx = np.random.choice(image.shape[0], 7500, replace=False)\n",
    "            test_x = image.detach().numpy()\n",
    "            test_y = labels.detach().numpy()\n",
    "            "
   ]
  },
  {
   "cell_type": "code",
   "execution_count": 35,
   "metadata": {
    "collapsed": false
   },
   "outputs": [],
   "source": [
    "np.random.seed(seed)\n",
    "\n",
    "## Extract 30000 images for mnist and 20000 for autoencoders\n",
    "\n",
    "random_idx = np.random.permutation(50000)\n",
    "# Parsing train data amongst mnist and autoencoders\n",
    "mnist_train_x = train_x[random_idx[:30000]]\n",
    "mnist_train_y = train_y[random_idx[:30000]]\n",
    "ae_train_x = train_x[random_idx[30000:]]\n",
    "ae_train_y = train_y[random_idx[30000:]]\n",
    "\n",
    "\n",
    "## Extract 5000 images for mnist and 2500 for autoencoders\n",
    "\n",
    "random_idx = np.random.permutation(7500)\n",
    "# Parsing test data amongst mnist and autoencoders\n",
    "mnist_test_x = test_x[random_idx[:5000]]\n",
    "mnist_test_y = test_y[random_idx[:5000]]\n",
    "ae_test_x = test_x[random_idx[5000:]]\n",
    "ae_test_y = test_y[random_idx[5000:]]"
   ]
  },
  {
   "cell_type": "code",
   "execution_count": 36,
   "metadata": {
    "collapsed": false
   },
   "outputs": [],
   "source": [
    "## Save train and test sets for autoencoders\n",
    "np.save(\"data/ae_train_x\", ae_train_x)\n",
    "np.save(\"data/ae_test_x\", ae_test_x)\n",
    "\n",
    "## Load numpy tensors\n",
    "# np.load(\"data/X_train.npy\")"
   ]
  },
  {
   "cell_type": "code",
   "execution_count": 37,
   "metadata": {
    "collapsed": false
   },
   "outputs": [],
   "source": [
    "## Loading numpy tensors from autoencoders\n",
    "ae_train_x_new = np.load('data/ae_train_x_new.npy')\n",
    "#ae_train_x_new = (ae_train_x_new - 0.5)/0.5\n",
    "ae_test_x_new = np.load('data/ae_test_x_new.npy')\n",
    "#ae_test_x_new = (ae_test_x_new - 0.5)/0.5"
   ]
  },
  {
   "cell_type": "code",
   "execution_count": 38,
   "metadata": {
    "collapsed": false
   },
   "outputs": [],
   "source": [
    "np.random.seed(seed)\n",
    "\n",
    "## Reading and storing images from DC_GAN\n",
    "train_x_gan = np.empty((10000,1,28,28))\n",
    "train_y_gan = np.empty((10000,))\n",
    "test_x_gan = np.empty((2500,1,28,28))\n",
    "test_y_gan = np.empty((2500,))\n",
    "\n",
    "for digit in range(10):\n",
    "    \n",
    "    temp_image = np.load(\"data/{}.npy\".format(digit))\n",
    "    train_y_gan[digit*1000:(digit+1)*1000] = digit\n",
    "    test_y_gan[digit*250:(digit+1)*250] = digit\n",
    "    \n",
    "    for image in range(1250):\n",
    "        \n",
    "        img = cv2.resize(temp_image[image][0], (28, 28)) \n",
    "        img = img.reshape((1,28,28))\n",
    "        if image < 1000:\n",
    "            train_x_gan[digit*1000 + image] = img\n",
    "        else:\n",
    "            test_x_gan[digit*250 + (image-1000)] = img\n",
    "\n",
    "            \n",
    "## Randomize the set\n",
    "\n",
    "# Train\n",
    "idx = np.random.permutation(10000)\n",
    "train_x_gan = train_x_gan[idx]\n",
    "train_y_gan = train_y_gan[idx]\n",
    "# Test\n",
    "idx = np.random.permutation(2500)\n",
    "test_x_gan = test_x_gan[idx]\n",
    "test_y_gan = test_y_gan[idx]"
   ]
  },
  {
   "cell_type": "code",
   "execution_count": 39,
   "metadata": {
    "collapsed": false
   },
   "outputs": [],
   "source": [
    "## Data normalization between (0,1)\n",
    "\n",
    "# Normalize function\n",
    "def normalize(matrix):\n",
    "    \n",
    "    return (matrix - matrix.min())/(matrix.max() - matrix.min())\n",
    "\n",
    "# MNIST train and test\n",
    "mnist_train_x = normalize(mnist_train_x)\n",
    "mnist_test_x = normalize(mnist_test_x)\n",
    "\n",
    "# Autoencoder train\n",
    "for n,i in enumerate(ae_train_x_new):\n",
    "    ae_train_x_new[n] = normalize(i)\n",
    "# Autoencoder test\n",
    "for n,i in enumerate(ae_test_x_new):\n",
    "    ae_test_x_new[n] = normalize(i)\n",
    "    \n",
    "# DC-GANs train\n",
    "for n,i in enumerate(train_x_gan):\n",
    "    train_x_gan[n] = normalize(i)\n",
    "# DC-GANs test\n",
    "for n,i in enumerate(test_x_gan):\n",
    "    test_x_gan[n] = normalize(i)   "
   ]
  },
  {
   "cell_type": "code",
   "execution_count": 43,
   "metadata": {
    "collapsed": false
   },
   "outputs": [],
   "source": [
    "np.random.seed(seed)\n",
    "\n",
    "## Creating the dataset:\n",
    "train_X = np.concatenate((mnist_train_x, ae_train_x_new, train_x_gan), axis = 0)\n",
    "train_Y = np.concatenate((mnist_train_y, ae_train_y, train_y_gan), axis = 0)\n",
    "test_X = np.concatenate((mnist_test_x, ae_test_x_new, test_x_gan), axis = 0)\n",
    "test_Y = np.concatenate((mnist_test_y, ae_test_y, test_y_gan), axis = 0)\n",
    "\n",
    "## Final shuffle\n",
    "train_idx = np.random.permutation(60000)\n",
    "train_X = train_X[train_idx]\n",
    "train_Y = train_Y[train_idx]\n",
    "\n",
    "test_idx = np.random.permutation(10000)\n",
    "test_X = test_X[test_idx]\n",
    "test_Y = test_Y[test_idx]\n",
    "\n",
    "\n",
    "## Saving the datasets\n",
    "np.save('data/train_X', train_X)\n",
    "np.save('data/train_Y', train_Y)\n",
    "np.save('data/test_X', test_X)\n",
    "np.save('data/test_Y', test_Y)"
   ]
  },
  {
   "cell_type": "code",
   "execution_count": 48,
   "metadata": {
    "collapsed": false
   },
   "outputs": [
    {
     "data": {
      "text/plain": [
       "0.0"
      ]
     },
     "execution_count": 48,
     "metadata": {},
     "output_type": "execute_result"
    }
   ],
   "source": []
  },
  {
   "cell_type": "code",
   "execution_count": null,
   "metadata": {
    "collapsed": false
   },
   "outputs": [],
   "source": [
    "train_X = np.load()\n",
    "train_Y = np.concatenate((mnist_train_y, ae_train_y, train_y_gan), axis = 0)\n",
    "test_X = np.concatenate((mnist_test_x, ae_test_x_new, test_x_gan), axis = 0)\n",
    "test_Y = np.concatenate((mnist_test_y, ae_test_y, test_y_gan), axis = 0)\n"
   ]
  },
  {
   "cell_type": "markdown",
   "metadata": {},
   "source": [
    "## Loading the Dataset"
   ]
  },
  {
   "cell_type": "code",
   "execution_count": 96,
   "metadata": {
    "collapsed": false
   },
   "outputs": [
    {
     "name": "stdout",
     "output_type": "stream",
     "text": [
      "The shape of the train data set is (60000, 1, 28, 28)\n",
      "The shape of the test data set is (10000, 1, 28, 28)\n"
     ]
    }
   ],
   "source": [
    "\"\"\"\n",
    "The train dataset was creating by:\n",
    "    - Using 30000 randomly picked instances from the MNIST dataset\n",
    "    - Using 20000 instances generated using an autoencoder \n",
    "    - Using 10000 instances generated using DCGAN\n",
    "    \n",
    "The test dataset was created by:\n",
    "    - Using 5000 randomly picked instances from the MNIST dataset\n",
    "    - Using 2500 instances generated using an autoencoder \n",
    "    - Using 2500 instances generated using DCGAN\n",
    "\n",
    "train_X - a 60000*1*28*28 tensor : features \n",
    "train_y - a 60000*1 tensor : labels\n",
    "\n",
    "test_X - a 10000*1*28*28 tensor : features \n",
    "test_Y - a 10000*1 tensor : labels\n",
    "\"\"\"\n",
    "print(\"The shape of the train data set is {}\".format(train_X.shape))\n",
    "print(\"The shape of the test data set is {}\".format(test_X.shape))"
   ]
  },
  {
   "cell_type": "code",
   "execution_count": 402,
   "metadata": {
    "collapsed": false
   },
   "outputs": [],
   "source": [
    "## Loading the datasets\n",
    "# np.load(path)\n",
    "# np.load(\"data/X_train.npy\") <-- example"
   ]
  },
  {
   "cell_type": "code",
   "execution_count": 2,
   "metadata": {
    "collapsed": false
   },
   "outputs": [],
   "source": [
    "## load datasets\n",
    "test_X = np.load(\"data/train_test_final/test_X.npy\")\n",
    "test_Y = np.load(\"data/train_test_final/test_Y.npy\")\n",
    "train_X = np.load(\"data/train_test_final/train_X.npy\")\n",
    "train_Y = np.load(\"data/train_test_final/train_Y.npy\")"
   ]
  },
  {
   "cell_type": "code",
   "execution_count": 239,
   "metadata": {
    "collapsed": false
   },
   "outputs": [
    {
     "name": "stdout",
     "output_type": "stream",
     "text": [
      "The image id is 24643\n",
      "The generated image is a 2.0\n"
     ]
    },
    {
     "data": {
      "image/png": "[encoded data removed]",
      "text/plain": [
       "<matplotlib.figure.Figure at 0x159266cc0>"
      ]
     },
     "metadata": {},
     "output_type": "display_data"
    }
   ],
   "source": [
    "## Playing around with Train dataset \n",
    "idx = 24643#np.random.choice(60000,1)[0]\n",
    "plt.imshow(train_X_b[idx][0])\n",
    "print(\"The image id is {}\".format(idx))\n",
    "print(\"The generated image is a {}\".format(train_Y[idx]))\n",
    "plt.show()"
   ]
  },
  {
   "cell_type": "code",
   "execution_count": 235,
   "metadata": {
    "collapsed": false
   },
   "outputs": [
    {
     "name": "stdout",
     "output_type": "stream",
     "text": [
      "The image id is 9313\n",
      "The generated image is a 6.0\n"
     ]
    },
    {
     "data": {
      "image/png": "[encoded data removed]",
      "text/plain": [
       "<matplotlib.figure.Figure at 0x1597f5ef0>"
      ]
     },
     "metadata": {},
     "output_type": "display_data"
    }
   ],
   "source": [
    "## Playing around with Test dataset \n",
    "idx = np.random.choice(10000,1)[0]\n",
    "plt.imshow(test_X_b[idx][0])\n",
    "print(\"The image id is {}\".format(idx))\n",
    "print(\"The generated image is a {}\".format(test_Y[idx]))\n",
    "plt.show()"
   ]
  },
  {
   "cell_type": "code",
   "execution_count": null,
   "metadata": {
    "collapsed": true
   },
   "outputs": [],
   "source": []
  },
  {
   "cell_type": "markdown",
   "metadata": {},
   "source": [
    "## Tweaking dataset"
   ]
  },
  {
   "cell_type": "code",
   "execution_count": 4,
   "metadata": {
    "collapsed": true
   },
   "outputs": [],
   "source": [
    "train_X_b = np.load(\"data/train_test_final/train_X_b.npy\")\n",
    "test_X_b = np.load(\"data/train_test_final/test_X_b.npy\")"
   ]
  },
  {
   "cell_type": "code",
   "execution_count": 187,
   "metadata": {
    "collapsed": false
   },
   "outputs": [],
   "source": [
    "train_X_b = np.zeros(train_X.shape)\n",
    "test_X_b = np.zeros(test_X.shape)\n",
    "for i in range(len(train_X)):train_X_b[i][0] = np.where(train_X[i][0] > 0.3, 1, 0)\n",
    "for i in range(len(test_X)):test_X_b[i][0] = np.where(test_X[i][0] > 0.3, 1, 0)"
   ]
  },
  {
   "cell_type": "code",
   "execution_count": 240,
   "metadata": {
    "collapsed": false
   },
   "outputs": [],
   "source": [
    "np.save('data/train_test_final/train_X_b', train_X_b)\n",
    "np.save('data/train_test_final/test_X_b', test_X_b)"
   ]
  },
  {
   "cell_type": "code",
   "execution_count": null,
   "metadata": {
    "collapsed": false
   },
   "outputs": [],
   "source": []
  },
  {
   "cell_type": "markdown",
   "metadata": {
    "collapsed": true
   },
   "source": [
    "# Trying to get the online version to perform better"
   ]
  },
  {
   "cell_type": "code",
   "execution_count": 18,
   "metadata": {
    "collapsed": true
   },
   "outputs": [],
   "source": [
    "## Loading the MNIST dataset\n",
    "\n",
    "path = './data/torch_data/VGAN/MNIST/dataset'\n",
    "compose = transforms.Compose([transforms.ToTensor()])\n",
    "                    \n",
    "train_dataset = datasets.MNIST(root = path, train = True, transform = compose, download = False)\n",
    "train_loader = torch.utils.data.DataLoader(dataset = train_dataset, batch_size = 60000, shuffle = True)\n",
    "test_dataset = datasets.MNIST(root = path, train = False, transform = compose, download = False)\n",
    "test_loader = torch.utils.data.DataLoader(dataset = test_dataset,batch_size = 10000, shuffle = True)"
   ]
  },
  {
   "cell_type": "code",
   "execution_count": 51,
   "metadata": {
    "collapsed": false
   },
   "outputs": [],
   "source": [
    "np.random.seed(seed)\n",
    "\n",
    "## Store the images into the repective train and test variables\n",
    "\n",
    "data_list = [train_loader, test_loader]\n",
    "\n",
    "## Loop through the datasets (train/test) [temp_idx]\n",
    "for data in data_list:\n",
    "\n",
    "    for image, labels in data:\n",
    "        \n",
    "        if image.shape[0] == 60000:\n",
    "            train_x = image.detach().numpy()\n",
    "            train_y = labels.detach().numpy()\n",
    "            \n",
    "        else:\n",
    "            test_x = image.detach().numpy()\n",
    "            test_y = labels.detach().numpy()\n",
    "            "
   ]
  },
  {
   "cell_type": "code",
   "execution_count": 53,
   "metadata": {
    "collapsed": false
   },
   "outputs": [],
   "source": [
    "train_X_b = np.zeros(train_x.shape)\n",
    "test_X_b = np.zeros(test_x.shape)\n",
    "for i in range(len(train_x)):train_X_b[i][0] = np.where(train_x[i][0] > 0.3, 1, 0)\n",
    "for i in range(len(test_x)):test_X_b[i][0] = np.where(test_x[i][0] > 0.3, 1, 0)"
   ]
  },
  {
   "cell_type": "code",
   "execution_count": 85,
   "metadata": {
    "collapsed": false
   },
   "outputs": [
    {
     "name": "stdout",
     "output_type": "stream",
     "text": [
      "The image id is 59150\n",
      "The generated image is a 0\n"
     ]
    },
    {
     "data": {
      "image/png": "[encoded data removed]",
      "text/plain": [
       "<matplotlib.figure.Figure at 0x119294ba8>"
      ]
     },
     "metadata": {},
     "output_type": "display_data"
    }
   ],
   "source": [
    "## Playing around with Train dataset \n",
    "idx = np.random.choice(60000,1)[0]\n",
    "plt.imshow(train_X_b[idx][0])\n",
    "print(\"The image id is {}\".format(idx))\n",
    "print(\"The generated image is a {}\".format(train_y[idx]))\n",
    "plt.show()"
   ]
  },
  {
   "cell_type": "code",
   "execution_count": 127,
   "metadata": {
    "collapsed": false
   },
   "outputs": [
    {
     "name": "stdout",
     "output_type": "stream",
     "text": [
      "The image id is 161\n",
      "The generated image is a 8\n"
     ]
    },
    {
     "data": {
      "image/png": "[encoded data removed]",
      "text/plain": [
       "<matplotlib.figure.Figure at 0x11cf0eef0>"
      ]
     },
     "metadata": {},
     "output_type": "display_data"
    }
   ],
   "source": [
    "## Playing around with Test dataset \n",
    "idx = np.random.choice(10000,1)[0]\n",
    "plt.imshow(test_X_b[idx][0])\n",
    "print(\"The image id is {}\".format(idx))\n",
    "print(\"The generated image is a {}\".format(test_y[idx]))\n",
    "plt.show()"
   ]
  },
  {
   "cell_type": "code",
   "execution_count": 97,
   "metadata": {
    "collapsed": true
   },
   "outputs": [],
   "source": [
    "## Save the train and test matrices\n",
    "path = 'data/train_test_final/'\n",
    "np.save(path + 'train_x', train_X_b)\n",
    "np.save(path + 'train_y', train_y)\n",
    "np.save(path + 'test_x', test_X_b)\n",
    "np.save(path + 'test_y', test_y)"
   ]
  },
  {
   "cell_type": "code",
   "execution_count": 96,
   "metadata": {
    "collapsed": false
   },
   "outputs": [
    {
     "data": {
      "text/plain": [
       "'data/train_test_final/train_x'"
      ]
     },
     "execution_count": 96,
     "metadata": {},
     "output_type": "execute_result"
    }
   ],
   "source": [
    "path + 'train_x'"
   ]
  },
  {
   "cell_type": "code",
   "execution_count": 99,
   "metadata": {
    "collapsed": false
   },
   "outputs": [
    {
     "data": {
      "text/plain": [
       "array([5, 4, 1, ..., 5, 0, 6])"
      ]
     },
     "execution_count": 99,
     "metadata": {},
     "output_type": "execute_result"
    }
   ],
   "source": [
    "np.load(path + 'test_Y.npy')"
   ]
  },
  {
   "cell_type": "code",
   "execution_count": null,
   "metadata": {
    "collapsed": true
   },
   "outputs": [],
   "source": []
  }
 ],
 "metadata": {
  "kernelspec": {
   "display_name": "Python 3",
   "language": "python",
   "name": "python3"
  },
  "language_info": {
   "codemirror_mode": {
    "name": "ipython",
    "version": 3
   },
   "file_extension": ".py",
   "mimetype": "text/x-python",
   "name": "python",
   "nbconvert_exporter": "python",
   "pygments_lexer": "ipython3",
   "version": "3.6.0"
  }
 },
 "nbformat": 4,
 "nbformat_minor": 2
}
